{
 "cells": [
  {
   "cell_type": "markdown",
   "metadata": {},
   "source": [
    "The first thing to do is to read the file. To deal with the data, let’s import all the library we will be using in the project first and load the data. "
   ]
  },
  {
   "cell_type": "code",
   "execution_count": 1,
   "metadata": {},
   "outputs": [
    {
     "name": "stdout",
     "output_type": "stream",
     "text": [
      "Walmart dataset has 199523 samples with 42 features.\n"
     ]
    }
   ],
   "source": [
    "import pandas as pd\n",
    "import matplotlib.pyplot as plt\n",
    "import numpy as np\n",
    "import matplotlib as mpl\n",
    "import matplotlib.pyplot as plt\n",
    "import seaborn as sns\n",
    "\n",
    "## Reading the two data set. one for columns name and other for datasheet.\n",
    "data = pd.read_csv('census-income.data', header= None)\n",
    "col = pd.read_table('census-income.columns', header= None) \n",
    "\n",
    "data.columns = ['age',\n",
    "'class of worker',\n",
    "'detailed industry recode',\n",
    "'detailed occupation recode',\n",
    "'education',\n",
    "'wage per hour',\n",
    "'enroll in edu inst last wk',\n",
    "'marital stat',\n",
    "'major industry code',\n",
    "'major occupation code',\n",
    "'race',\n",
    "'hispanic origin',\n",
    "'sex',\n",
    "'member of a labor union',\n",
    "'reason for unemployment',\n",
    "'full or part time employment stat',\n",
    "'capital gains',\n",
    "'capital losses',\n",
    "'dividends from stocks',\n",
    "'tax filer stat',\n",
    "'region of previous residence',\n",
    "'state of previous residence',\n",
    "'detailed household and family stat',\n",
    "'detailed household summary in household',\n",
    "'instance weight',\n",
    "'migration code-change in msa',\n",
    "'migration code-change in reg',\n",
    "'migration code-move within reg',\n",
    "'live in this house 1 year ago',\n",
    "'migration prev res in sunbelt',\n",
    "'num persons worked for employer',\n",
    "'family members under 18',\n",
    "'country of birth father',\n",
    "'country of birth mother',\n",
    "'country of birth self',\n",
    "'citizenship',\n",
    "'own business or self employed',\n",
    "'fill inc questionnaire for veterans admin',\n",
    "'veterans benefits',\n",
    "'weeks worked in year',\n",
    "'year',\n",
    "'label']\n",
    "\n",
    "print (\"Walmart dataset has {} samples with {} features.\".format(*data.shape))"
   ]
  },
  {
   "cell_type": "markdown",
   "metadata": {},
   "source": [
    "# Data Exploration:\n",
    "\n",
    "In this section, we will begin exploring the data through visualizations and code to understand how each feature is related to one another."
   ]
  },
  {
   "cell_type": "code",
   "execution_count": 2,
   "metadata": {},
   "outputs": [
    {
     "data": {
      "text/html": [
       "<div>\n",
       "<style scoped>\n",
       "    .dataframe tbody tr th:only-of-type {\n",
       "        vertical-align: middle;\n",
       "    }\n",
       "\n",
       "    .dataframe tbody tr th {\n",
       "        vertical-align: top;\n",
       "    }\n",
       "\n",
       "    .dataframe thead th {\n",
       "        text-align: right;\n",
       "    }\n",
       "</style>\n",
       "<table border=\"1\" class=\"dataframe\">\n",
       "  <thead>\n",
       "    <tr style=\"text-align: right;\">\n",
       "      <th></th>\n",
       "      <th>age</th>\n",
       "      <th>class of worker</th>\n",
       "      <th>detailed industry recode</th>\n",
       "      <th>detailed occupation recode</th>\n",
       "      <th>education</th>\n",
       "      <th>wage per hour</th>\n",
       "      <th>enroll in edu inst last wk</th>\n",
       "      <th>marital stat</th>\n",
       "      <th>major industry code</th>\n",
       "      <th>major occupation code</th>\n",
       "      <th>...</th>\n",
       "      <th>country of birth father</th>\n",
       "      <th>country of birth mother</th>\n",
       "      <th>country of birth self</th>\n",
       "      <th>citizenship</th>\n",
       "      <th>own business or self employed</th>\n",
       "      <th>fill inc questionnaire for veterans admin</th>\n",
       "      <th>veterans benefits</th>\n",
       "      <th>weeks worked in year</th>\n",
       "      <th>year</th>\n",
       "      <th>label</th>\n",
       "    </tr>\n",
       "  </thead>\n",
       "  <tbody>\n",
       "    <tr>\n",
       "      <th>177192</th>\n",
       "      <td>29</td>\n",
       "      <td>Private</td>\n",
       "      <td>33</td>\n",
       "      <td>33</td>\n",
       "      <td>High school graduate</td>\n",
       "      <td>0</td>\n",
       "      <td>Not in universe</td>\n",
       "      <td>Married-civilian spouse present</td>\n",
       "      <td>Retail trade</td>\n",
       "      <td>Precision production craft &amp; repair</td>\n",
       "      <td>...</td>\n",
       "      <td>United-States</td>\n",
       "      <td>United-States</td>\n",
       "      <td>United-States</td>\n",
       "      <td>Native- Born in the United States</td>\n",
       "      <td>0</td>\n",
       "      <td>Not in universe</td>\n",
       "      <td>2</td>\n",
       "      <td>52</td>\n",
       "      <td>95</td>\n",
       "      <td>- 50000.</td>\n",
       "    </tr>\n",
       "    <tr>\n",
       "      <th>115174</th>\n",
       "      <td>44</td>\n",
       "      <td>Private</td>\n",
       "      <td>32</td>\n",
       "      <td>38</td>\n",
       "      <td>High school graduate</td>\n",
       "      <td>775</td>\n",
       "      <td>Not in universe</td>\n",
       "      <td>Married-civilian spouse present</td>\n",
       "      <td>Wholesale trade</td>\n",
       "      <td>Transportation and material moving</td>\n",
       "      <td>...</td>\n",
       "      <td>Ecuador</td>\n",
       "      <td>Ecuador</td>\n",
       "      <td>Ecuador</td>\n",
       "      <td>Foreign born- Not a citizen of U S</td>\n",
       "      <td>0</td>\n",
       "      <td>Not in universe</td>\n",
       "      <td>2</td>\n",
       "      <td>52</td>\n",
       "      <td>94</td>\n",
       "      <td>- 50000.</td>\n",
       "    </tr>\n",
       "    <tr>\n",
       "      <th>28797</th>\n",
       "      <td>7</td>\n",
       "      <td>Not in universe</td>\n",
       "      <td>0</td>\n",
       "      <td>0</td>\n",
       "      <td>Children</td>\n",
       "      <td>0</td>\n",
       "      <td>Not in universe</td>\n",
       "      <td>Never married</td>\n",
       "      <td>Not in universe or children</td>\n",
       "      <td>Not in universe</td>\n",
       "      <td>...</td>\n",
       "      <td>United-States</td>\n",
       "      <td>Mexico</td>\n",
       "      <td>United-States</td>\n",
       "      <td>Native- Born in the United States</td>\n",
       "      <td>0</td>\n",
       "      <td>Not in universe</td>\n",
       "      <td>0</td>\n",
       "      <td>0</td>\n",
       "      <td>94</td>\n",
       "      <td>- 50000.</td>\n",
       "    </tr>\n",
       "    <tr>\n",
       "      <th>59387</th>\n",
       "      <td>75</td>\n",
       "      <td>Not in universe</td>\n",
       "      <td>0</td>\n",
       "      <td>0</td>\n",
       "      <td>High school graduate</td>\n",
       "      <td>0</td>\n",
       "      <td>Not in universe</td>\n",
       "      <td>Married-civilian spouse present</td>\n",
       "      <td>Not in universe or children</td>\n",
       "      <td>Not in universe</td>\n",
       "      <td>...</td>\n",
       "      <td>United-States</td>\n",
       "      <td>United-States</td>\n",
       "      <td>United-States</td>\n",
       "      <td>Native- Born in the United States</td>\n",
       "      <td>0</td>\n",
       "      <td>Not in universe</td>\n",
       "      <td>2</td>\n",
       "      <td>0</td>\n",
       "      <td>95</td>\n",
       "      <td>- 50000.</td>\n",
       "    </tr>\n",
       "    <tr>\n",
       "      <th>183209</th>\n",
       "      <td>8</td>\n",
       "      <td>Not in universe</td>\n",
       "      <td>0</td>\n",
       "      <td>0</td>\n",
       "      <td>Children</td>\n",
       "      <td>0</td>\n",
       "      <td>Not in universe</td>\n",
       "      <td>Never married</td>\n",
       "      <td>Not in universe or children</td>\n",
       "      <td>Not in universe</td>\n",
       "      <td>...</td>\n",
       "      <td>Peru</td>\n",
       "      <td>Peru</td>\n",
       "      <td>Peru</td>\n",
       "      <td>Foreign born- Not a citizen of U S</td>\n",
       "      <td>0</td>\n",
       "      <td>Not in universe</td>\n",
       "      <td>0</td>\n",
       "      <td>0</td>\n",
       "      <td>94</td>\n",
       "      <td>- 50000.</td>\n",
       "    </tr>\n",
       "  </tbody>\n",
       "</table>\n",
       "<p>5 rows × 42 columns</p>\n",
       "</div>"
      ],
      "text/plain": [
       "        age  class of worker  detailed industry recode  \\\n",
       "177192   29          Private                        33   \n",
       "115174   44          Private                        32   \n",
       "28797     7  Not in universe                         0   \n",
       "59387    75  Not in universe                         0   \n",
       "183209    8  Not in universe                         0   \n",
       "\n",
       "        detailed occupation recode             education  wage per hour  \\\n",
       "177192                          33  High school graduate              0   \n",
       "115174                          38  High school graduate            775   \n",
       "28797                            0              Children              0   \n",
       "59387                            0  High school graduate              0   \n",
       "183209                           0              Children              0   \n",
       "\n",
       "       enroll in edu inst last wk                     marital stat  \\\n",
       "177192            Not in universe  Married-civilian spouse present   \n",
       "115174            Not in universe  Married-civilian spouse present   \n",
       "28797             Not in universe                    Never married   \n",
       "59387             Not in universe  Married-civilian spouse present   \n",
       "183209            Not in universe                    Never married   \n",
       "\n",
       "                major industry code                major occupation code  \\\n",
       "177192                 Retail trade  Precision production craft & repair   \n",
       "115174              Wholesale trade   Transportation and material moving   \n",
       "28797   Not in universe or children                      Not in universe   \n",
       "59387   Not in universe or children                      Not in universe   \n",
       "183209  Not in universe or children                      Not in universe   \n",
       "\n",
       "          ...    country of birth father country of birth mother  \\\n",
       "177192    ...              United-States           United-States   \n",
       "115174    ...                    Ecuador                 Ecuador   \n",
       "28797     ...              United-States                  Mexico   \n",
       "59387     ...              United-States           United-States   \n",
       "183209    ...                       Peru                    Peru   \n",
       "\n",
       "       country of birth self                          citizenship  \\\n",
       "177192         United-States    Native- Born in the United States   \n",
       "115174               Ecuador  Foreign born- Not a citizen of U S    \n",
       "28797          United-States    Native- Born in the United States   \n",
       "59387          United-States    Native- Born in the United States   \n",
       "183209                  Peru  Foreign born- Not a citizen of U S    \n",
       "\n",
       "       own business or self employed  \\\n",
       "177192                             0   \n",
       "115174                             0   \n",
       "28797                              0   \n",
       "59387                              0   \n",
       "183209                             0   \n",
       "\n",
       "       fill inc questionnaire for veterans admin  veterans benefits  \\\n",
       "177192                           Not in universe                  2   \n",
       "115174                           Not in universe                  2   \n",
       "28797                            Not in universe                  0   \n",
       "59387                            Not in universe                  2   \n",
       "183209                           Not in universe                  0   \n",
       "\n",
       "        weeks worked in year  year     label  \n",
       "177192                    52    95  - 50000.  \n",
       "115174                    52    94  - 50000.  \n",
       "28797                      0    94  - 50000.  \n",
       "59387                      0    95  - 50000.  \n",
       "183209                     0    94  - 50000.  \n",
       "\n",
       "[5 rows x 42 columns]"
      ]
     },
     "execution_count": 2,
     "metadata": {},
     "output_type": "execute_result"
    }
   ],
   "source": [
    "data.sample(5)"
   ]
  },
  {
   "cell_type": "markdown",
   "metadata": {},
   "source": [
    "## Category Reduction"
   ]
  },
  {
   "cell_type": "code",
   "execution_count": 3,
   "metadata": {},
   "outputs": [],
   "source": [
    "## creating a group called married\n",
    "data['marital stat'] = data['marital stat'].replace(['Married-civilian spouse present','Married-spouse absent', 'Married-A F spouse present'], ['married','married','married'])"
   ]
  },
  {
   "cell_type": "code",
   "execution_count": 4,
   "metadata": {},
   "outputs": [],
   "source": [
    "## Replacing values so that it will be easier to undestand\n",
    "data['label'] = data['label'].replace(['- 50000.','50000+.'], ['<50','>50'])"
   ]
  },
  {
   "cell_type": "markdown",
   "metadata": {},
   "source": [
    "## Basic Data Analysis\n",
    "---------------------------\n",
    "\n",
    "### <font color =  green> Duplicate values </font>\n",
    "\n",
    "To check the duplicate values in the data"
   ]
  },
  {
   "cell_type": "code",
   "execution_count": 5,
   "metadata": {},
   "outputs": [
    {
     "name": "stdout",
     "output_type": "stream",
     "text": [
      "There are total 3229 Duplicate values in the data\n",
      "Data size after removing Duplicate entries are: 196294\n"
     ]
    }
   ],
   "source": [
    "print(\"There are total {} Duplicate values in the data\".format(data.duplicated().sum()))\n",
    "\n",
    "data.drop_duplicates(inplace = True)\n",
    "\n",
    "print(\"Data size after removing Duplicate entries are:\" , data.shape[0])"
   ]
  },
  {
   "cell_type": "markdown",
   "metadata": {},
   "source": [
    "### <font color =  green> Null/NA values </font>\n",
    "\n",
    "Check whether there are missing values in each column."
   ]
  },
  {
   "cell_type": "code",
   "execution_count": 6,
   "metadata": {},
   "outputs": [
    {
     "name": "stdout",
     "output_type": "stream",
     "text": [
      "age                                            0\n",
      "class of worker                                0\n",
      "detailed industry recode                       0\n",
      "detailed occupation recode                     0\n",
      "education                                      0\n",
      "wage per hour                                  0\n",
      "enroll in edu inst last wk                     0\n",
      "marital stat                                   0\n",
      "major industry code                            0\n",
      "major occupation code                          0\n",
      "race                                           0\n",
      "hispanic origin                              870\n",
      "sex                                            0\n",
      "member of a labor union                        0\n",
      "reason for unemployment                        0\n",
      "full or part time employment stat              0\n",
      "capital gains                                  0\n",
      "capital losses                                 0\n",
      "dividends from stocks                          0\n",
      "tax filer stat                                 0\n",
      "region of previous residence                   0\n",
      "state of previous residence                    0\n",
      "detailed household and family stat             0\n",
      "detailed household summary in household        0\n",
      "instance weight                                0\n",
      "migration code-change in msa                   0\n",
      "migration code-change in reg                   0\n",
      "migration code-move within reg                 0\n",
      "live in this house 1 year ago                  0\n",
      "migration prev res in sunbelt                  0\n",
      "num persons worked for employer                0\n",
      "family members under 18                        0\n",
      "country of birth father                        0\n",
      "country of birth mother                        0\n",
      "country of birth self                          0\n",
      "citizenship                                    0\n",
      "own business or self employed                  0\n",
      "fill inc questionnaire for veterans admin      0\n",
      "veterans benefits                              0\n",
      "weeks worked in year                           0\n",
      "year                                           0\n",
      "label                                          0\n",
      "dtype: int64\n"
     ]
    }
   ],
   "source": [
    "# To check Null values \n",
    "print(data.isnull().sum())"
   ]
  },
  {
   "cell_type": "markdown",
   "metadata": {},
   "source": [
    "Hispanic origin column has 870 null values. But as i are not going to consider this column for classification,we are not removing the null values."
   ]
  },
  {
   "cell_type": "code",
   "execution_count": 7,
   "metadata": {},
   "outputs": [
    {
     "name": "stdout",
     "output_type": "stream",
     "text": [
      "age                                            int64\n",
      "class of worker                               object\n",
      "detailed industry recode                       int64\n",
      "detailed occupation recode                     int64\n",
      "education                                     object\n",
      "wage per hour                                  int64\n",
      "enroll in edu inst last wk                    object\n",
      "marital stat                                  object\n",
      "major industry code                           object\n",
      "major occupation code                         object\n",
      "race                                          object\n",
      "hispanic origin                               object\n",
      "sex                                           object\n",
      "member of a labor union                       object\n",
      "reason for unemployment                       object\n",
      "full or part time employment stat             object\n",
      "capital gains                                  int64\n",
      "capital losses                                 int64\n",
      "dividends from stocks                          int64\n",
      "tax filer stat                                object\n",
      "region of previous residence                  object\n",
      "state of previous residence                   object\n",
      "detailed household and family stat            object\n",
      "detailed household summary in household       object\n",
      "instance weight                              float64\n",
      "migration code-change in msa                  object\n",
      "migration code-change in reg                  object\n",
      "migration code-move within reg                object\n",
      "live in this house 1 year ago                 object\n",
      "migration prev res in sunbelt                 object\n",
      "num persons worked for employer                int64\n",
      "family members under 18                       object\n",
      "country of birth father                       object\n",
      "country of birth mother                       object\n",
      "country of birth self                         object\n",
      "citizenship                                   object\n",
      "own business or self employed                  int64\n",
      "fill inc questionnaire for veterans admin     object\n",
      "veterans benefits                              int64\n",
      "weeks worked in year                           int64\n",
      "year                                           int64\n",
      "label                                         object\n",
      "dtype: object\n"
     ]
    }
   ],
   "source": [
    "# To check data type of each columns.\n",
    "print(data.dtypes)"
   ]
  },
  {
   "cell_type": "markdown",
   "metadata": {},
   "source": [
    "To quickly compute summary statistics and to identify anomalies,check statistical details of the dataset."
   ]
  },
  {
   "cell_type": "code",
   "execution_count": 8,
   "metadata": {
    "scrolled": true
   },
   "outputs": [
    {
     "data": {
      "text/html": [
       "<div>\n",
       "<style scoped>\n",
       "    .dataframe tbody tr th:only-of-type {\n",
       "        vertical-align: middle;\n",
       "    }\n",
       "\n",
       "    .dataframe tbody tr th {\n",
       "        vertical-align: top;\n",
       "    }\n",
       "\n",
       "    .dataframe thead th {\n",
       "        text-align: right;\n",
       "    }\n",
       "</style>\n",
       "<table border=\"1\" class=\"dataframe\">\n",
       "  <thead>\n",
       "    <tr style=\"text-align: right;\">\n",
       "      <th></th>\n",
       "      <th>age</th>\n",
       "      <th>detailed industry recode</th>\n",
       "      <th>detailed occupation recode</th>\n",
       "      <th>wage per hour</th>\n",
       "      <th>capital gains</th>\n",
       "      <th>capital losses</th>\n",
       "      <th>dividends from stocks</th>\n",
       "      <th>instance weight</th>\n",
       "      <th>num persons worked for employer</th>\n",
       "      <th>own business or self employed</th>\n",
       "      <th>veterans benefits</th>\n",
       "      <th>weeks worked in year</th>\n",
       "      <th>year</th>\n",
       "    </tr>\n",
       "  </thead>\n",
       "  <tbody>\n",
       "    <tr>\n",
       "      <th>count</th>\n",
       "      <td>196294.000000</td>\n",
       "      <td>196294.000000</td>\n",
       "      <td>196294.000000</td>\n",
       "      <td>196294.000000</td>\n",
       "      <td>196294.000000</td>\n",
       "      <td>196294.000000</td>\n",
       "      <td>196294.000000</td>\n",
       "      <td>196294.000000</td>\n",
       "      <td>196294.000000</td>\n",
       "      <td>196294.000000</td>\n",
       "      <td>196294.000000</td>\n",
       "      <td>196294.000000</td>\n",
       "      <td>196294.000000</td>\n",
       "    </tr>\n",
       "    <tr>\n",
       "      <th>mean</th>\n",
       "      <td>34.929468</td>\n",
       "      <td>15.603187</td>\n",
       "      <td>11.490468</td>\n",
       "      <td>56.336505</td>\n",
       "      <td>441.870037</td>\n",
       "      <td>37.927593</td>\n",
       "      <td>200.722386</td>\n",
       "      <td>1743.267584</td>\n",
       "      <td>1.988105</td>\n",
       "      <td>0.178304</td>\n",
       "      <td>1.538183</td>\n",
       "      <td>23.553889</td>\n",
       "      <td>94.499328</td>\n",
       "    </tr>\n",
       "    <tr>\n",
       "      <th>std</th>\n",
       "      <td>22.210001</td>\n",
       "      <td>18.106401</td>\n",
       "      <td>14.498128</td>\n",
       "      <td>277.054333</td>\n",
       "      <td>4735.677027</td>\n",
       "      <td>274.081174</td>\n",
       "      <td>2000.130616</td>\n",
       "      <td>996.945985</td>\n",
       "      <td>2.371018</td>\n",
       "      <td>0.557739</td>\n",
       "      <td>0.836813</td>\n",
       "      <td>24.428588</td>\n",
       "      <td>0.500001</td>\n",
       "    </tr>\n",
       "    <tr>\n",
       "      <th>min</th>\n",
       "      <td>0.000000</td>\n",
       "      <td>0.000000</td>\n",
       "      <td>0.000000</td>\n",
       "      <td>0.000000</td>\n",
       "      <td>0.000000</td>\n",
       "      <td>0.000000</td>\n",
       "      <td>0.000000</td>\n",
       "      <td>37.870000</td>\n",
       "      <td>0.000000</td>\n",
       "      <td>0.000000</td>\n",
       "      <td>0.000000</td>\n",
       "      <td>0.000000</td>\n",
       "      <td>94.000000</td>\n",
       "    </tr>\n",
       "    <tr>\n",
       "      <th>25%</th>\n",
       "      <td>16.000000</td>\n",
       "      <td>0.000000</td>\n",
       "      <td>0.000000</td>\n",
       "      <td>0.000000</td>\n",
       "      <td>0.000000</td>\n",
       "      <td>0.000000</td>\n",
       "      <td>0.000000</td>\n",
       "      <td>1061.530000</td>\n",
       "      <td>0.000000</td>\n",
       "      <td>0.000000</td>\n",
       "      <td>2.000000</td>\n",
       "      <td>0.000000</td>\n",
       "      <td>94.000000</td>\n",
       "    </tr>\n",
       "    <tr>\n",
       "      <th>50%</th>\n",
       "      <td>34.000000</td>\n",
       "      <td>1.000000</td>\n",
       "      <td>2.000000</td>\n",
       "      <td>0.000000</td>\n",
       "      <td>0.000000</td>\n",
       "      <td>0.000000</td>\n",
       "      <td>0.000000</td>\n",
       "      <td>1620.175000</td>\n",
       "      <td>1.000000</td>\n",
       "      <td>0.000000</td>\n",
       "      <td>2.000000</td>\n",
       "      <td>12.000000</td>\n",
       "      <td>94.000000</td>\n",
       "    </tr>\n",
       "    <tr>\n",
       "      <th>75%</th>\n",
       "      <td>50.000000</td>\n",
       "      <td>33.000000</td>\n",
       "      <td>26.000000</td>\n",
       "      <td>0.000000</td>\n",
       "      <td>0.000000</td>\n",
       "      <td>0.000000</td>\n",
       "      <td>0.000000</td>\n",
       "      <td>2194.060000</td>\n",
       "      <td>4.000000</td>\n",
       "      <td>0.000000</td>\n",
       "      <td>2.000000</td>\n",
       "      <td>52.000000</td>\n",
       "      <td>95.000000</td>\n",
       "    </tr>\n",
       "    <tr>\n",
       "      <th>max</th>\n",
       "      <td>90.000000</td>\n",
       "      <td>51.000000</td>\n",
       "      <td>46.000000</td>\n",
       "      <td>9999.000000</td>\n",
       "      <td>99999.000000</td>\n",
       "      <td>4608.000000</td>\n",
       "      <td>99999.000000</td>\n",
       "      <td>18656.300000</td>\n",
       "      <td>6.000000</td>\n",
       "      <td>2.000000</td>\n",
       "      <td>2.000000</td>\n",
       "      <td>52.000000</td>\n",
       "      <td>95.000000</td>\n",
       "    </tr>\n",
       "  </tbody>\n",
       "</table>\n",
       "</div>"
      ],
      "text/plain": [
       "                 age  detailed industry recode  detailed occupation recode  \\\n",
       "count  196294.000000             196294.000000               196294.000000   \n",
       "mean       34.929468                 15.603187                   11.490468   \n",
       "std        22.210001                 18.106401                   14.498128   \n",
       "min         0.000000                  0.000000                    0.000000   \n",
       "25%        16.000000                  0.000000                    0.000000   \n",
       "50%        34.000000                  1.000000                    2.000000   \n",
       "75%        50.000000                 33.000000                   26.000000   \n",
       "max        90.000000                 51.000000                   46.000000   \n",
       "\n",
       "       wage per hour  capital gains  capital losses  dividends from stocks  \\\n",
       "count  196294.000000  196294.000000   196294.000000          196294.000000   \n",
       "mean       56.336505     441.870037       37.927593             200.722386   \n",
       "std       277.054333    4735.677027      274.081174            2000.130616   \n",
       "min         0.000000       0.000000        0.000000               0.000000   \n",
       "25%         0.000000       0.000000        0.000000               0.000000   \n",
       "50%         0.000000       0.000000        0.000000               0.000000   \n",
       "75%         0.000000       0.000000        0.000000               0.000000   \n",
       "max      9999.000000   99999.000000     4608.000000           99999.000000   \n",
       "\n",
       "       instance weight  num persons worked for employer  \\\n",
       "count    196294.000000                    196294.000000   \n",
       "mean       1743.267584                         1.988105   \n",
       "std         996.945985                         2.371018   \n",
       "min          37.870000                         0.000000   \n",
       "25%        1061.530000                         0.000000   \n",
       "50%        1620.175000                         1.000000   \n",
       "75%        2194.060000                         4.000000   \n",
       "max       18656.300000                         6.000000   \n",
       "\n",
       "       own business or self employed  veterans benefits  weeks worked in year  \\\n",
       "count                  196294.000000      196294.000000         196294.000000   \n",
       "mean                        0.178304           1.538183             23.553889   \n",
       "std                         0.557739           0.836813             24.428588   \n",
       "min                         0.000000           0.000000              0.000000   \n",
       "25%                         0.000000           2.000000              0.000000   \n",
       "50%                         0.000000           2.000000             12.000000   \n",
       "75%                         0.000000           2.000000             52.000000   \n",
       "max                         2.000000           2.000000             52.000000   \n",
       "\n",
       "                year  \n",
       "count  196294.000000  \n",
       "mean       94.499328  \n",
       "std         0.500001  \n",
       "min        94.000000  \n",
       "25%        94.000000  \n",
       "50%        94.000000  \n",
       "75%        95.000000  \n",
       "max        95.000000  "
      ]
     },
     "execution_count": 8,
     "metadata": {},
     "output_type": "execute_result"
    }
   ],
   "source": [
    "data.describe()   # describing the data"
   ]
  },
  {
   "cell_type": "code",
   "execution_count": 9,
   "metadata": {},
   "outputs": [
    {
     "name": "stdout",
     "output_type": "stream",
     "text": [
      "Describe dataset for income >50k\n",
      "       age  detailed industry recode  detailed occupation recode  \\\n",
      "count  0.0                       0.0                         0.0   \n",
      "mean   NaN                       NaN                         NaN   \n",
      "std    NaN                       NaN                         NaN   \n",
      "min    NaN                       NaN                         NaN   \n",
      "25%    NaN                       NaN                         NaN   \n",
      "50%    NaN                       NaN                         NaN   \n",
      "75%    NaN                       NaN                         NaN   \n",
      "max    NaN                       NaN                         NaN   \n",
      "\n",
      "       wage per hour  capital gains  capital losses  dividends from stocks  \\\n",
      "count            0.0            0.0             0.0                    0.0   \n",
      "mean             NaN            NaN             NaN                    NaN   \n",
      "std              NaN            NaN             NaN                    NaN   \n",
      "min              NaN            NaN             NaN                    NaN   \n",
      "25%              NaN            NaN             NaN                    NaN   \n",
      "50%              NaN            NaN             NaN                    NaN   \n",
      "75%              NaN            NaN             NaN                    NaN   \n",
      "max              NaN            NaN             NaN                    NaN   \n",
      "\n",
      "       instance weight  num persons worked for employer  \\\n",
      "count              0.0                              0.0   \n",
      "mean               NaN                              NaN   \n",
      "std                NaN                              NaN   \n",
      "min                NaN                              NaN   \n",
      "25%                NaN                              NaN   \n",
      "50%                NaN                              NaN   \n",
      "75%                NaN                              NaN   \n",
      "max                NaN                              NaN   \n",
      "\n",
      "       own business or self employed  veterans benefits  weeks worked in year  \\\n",
      "count                            0.0                0.0                   0.0   \n",
      "mean                             NaN                NaN                   NaN   \n",
      "std                              NaN                NaN                   NaN   \n",
      "min                              NaN                NaN                   NaN   \n",
      "25%                              NaN                NaN                   NaN   \n",
      "50%                              NaN                NaN                   NaN   \n",
      "75%                              NaN                NaN                   NaN   \n",
      "max                              NaN                NaN                   NaN   \n",
      "\n",
      "       year  \n",
      "count   0.0  \n",
      "mean    NaN  \n",
      "std     NaN  \n",
      "min     NaN  \n",
      "25%     NaN  \n",
      "50%     NaN  \n",
      "75%     NaN  \n",
      "max     NaN  \n",
      "Describe dataset for income <50k\n",
      "       age  detailed industry recode  detailed occupation recode  \\\n",
      "count  0.0                       0.0                         0.0   \n",
      "mean   NaN                       NaN                         NaN   \n",
      "std    NaN                       NaN                         NaN   \n",
      "min    NaN                       NaN                         NaN   \n",
      "25%    NaN                       NaN                         NaN   \n",
      "50%    NaN                       NaN                         NaN   \n",
      "75%    NaN                       NaN                         NaN   \n",
      "max    NaN                       NaN                         NaN   \n",
      "\n",
      "       wage per hour  capital gains  capital losses  dividends from stocks  \\\n",
      "count            0.0            0.0             0.0                    0.0   \n",
      "mean             NaN            NaN             NaN                    NaN   \n",
      "std              NaN            NaN             NaN                    NaN   \n",
      "min              NaN            NaN             NaN                    NaN   \n",
      "25%              NaN            NaN             NaN                    NaN   \n",
      "50%              NaN            NaN             NaN                    NaN   \n",
      "75%              NaN            NaN             NaN                    NaN   \n",
      "max              NaN            NaN             NaN                    NaN   \n",
      "\n",
      "       instance weight  num persons worked for employer  \\\n",
      "count              0.0                              0.0   \n",
      "mean               NaN                              NaN   \n",
      "std                NaN                              NaN   \n",
      "min                NaN                              NaN   \n",
      "25%                NaN                              NaN   \n",
      "50%                NaN                              NaN   \n",
      "75%                NaN                              NaN   \n",
      "max                NaN                              NaN   \n",
      "\n",
      "       own business or self employed  veterans benefits  weeks worked in year  \\\n",
      "count                            0.0                0.0                   0.0   \n",
      "mean                             NaN                NaN                   NaN   \n",
      "std                              NaN                NaN                   NaN   \n",
      "min                              NaN                NaN                   NaN   \n",
      "25%                              NaN                NaN                   NaN   \n",
      "50%                              NaN                NaN                   NaN   \n",
      "75%                              NaN                NaN                   NaN   \n",
      "max                              NaN                NaN                   NaN   \n",
      "\n",
      "       year  \n",
      "count   0.0  \n",
      "mean    NaN  \n",
      "std     NaN  \n",
      "min     NaN  \n",
      "25%     NaN  \n",
      "50%     NaN  \n",
      "75%     NaN  \n",
      "max     NaN  \n"
     ]
    }
   ],
   "source": [
    "print('Describe dataset for income >50k')\n",
    "print(data[data.label == '>50k'].describe())\n",
    "print('Describe dataset for income <50k')\n",
    "print(data[data.label == '<50k'].describe())"
   ]
  },
  {
   "cell_type": "markdown",
   "metadata": {},
   "source": [
    "As mention in the description instance weight can be removed ."
   ]
  },
  {
   "cell_type": "code",
   "execution_count": 10,
   "metadata": {},
   "outputs": [
    {
     "name": "stdout",
     "output_type": "stream",
     "text": [
      "Total row count before droping na:  196294\n",
      "Total row count after droping na:  195424\n"
     ]
    }
   ],
   "source": [
    "## Removing the 'na' values from the data.\n",
    "print(\"Total row count before droping na: \", data.shape[0])\n",
    "data = data.dropna()\n",
    "print(\"Total row count after droping na: \", data.shape[0])"
   ]
  },
  {
   "cell_type": "markdown",
   "metadata": {},
   "source": [
    "## Visualization of some column features\n",
    "---------------------------\n",
    "#### Barplot for the Dependent variable (label)"
   ]
  },
  {
   "cell_type": "code",
   "execution_count": 11,
   "metadata": {},
   "outputs": [
    {
     "data": {
      "image/png": "[encoded data removed]",
      "text/plain": [
       "<matplotlib.figure.Figure at 0x28ecc54c438>"
      ]
     },
     "metadata": {},
     "output_type": "display_data"
    }
   ],
   "source": [
    "sns.countplot(x=\"label\", data=data)   # countplot for label column.\n",
    "plt.show()"
   ]
  },
  {
   "cell_type": "code",
   "execution_count": 12,
   "metadata": {},
   "outputs": [
    {
     "name": "stdout",
     "output_type": "stream",
     "text": [
      "Less than 50,000 Income percentage:  93.79558920508032\n",
      "Greater than 50,000 Income percentage:  6.204410794919682\n"
     ]
    }
   ],
   "source": [
    "print(\"Less than 50,000 Income percentage: \", 186324/(186324+12325) *100)\n",
    "print(\"Greater than 50,000 Income percentage: \", 12325/(186324+12325) *100)"
   ]
  },
  {
   "cell_type": "markdown",
   "metadata": {},
   "source": [
    "<font color = red>Note</font>: There is a great difference in the distribution of data. statistic of people having salary < 50k is 94% while the people with the salary greater than 50k is just 6%. So before applying any machine learning algorithm, we need to deal with class **Imbalance Issue.**"
   ]
  },
  {
   "cell_type": "code",
   "execution_count": 13,
   "metadata": {},
   "outputs": [
    {
     "data": {
      "image/png": "[encoded data removed]",
      "text/plain": [
       "<matplotlib.figure.Figure at 0x28ec875cf28>"
      ]
     },
     "metadata": {},
     "output_type": "display_data"
    },
    {
     "data": {
      "image/png": "[encoded data removed]",
      "text/plain": [
       "<matplotlib.figure.Figure at 0x28ecbe08e80>"
      ]
     },
     "metadata": {},
     "output_type": "display_data"
    },
    {
     "data": {
      "image/png": "[encoded data removed]",
      "text/plain": [
       "<matplotlib.figure.Figure at 0x28ecbf5f860>"
      ]
     },
     "metadata": {},
     "output_type": "display_data"
    }
   ],
   "source": [
    "## count plot for Race \n",
    "sns.countplot(y=\"race\", data=data)\n",
    "plt.show()\n",
    "\n",
    "## count plot for employement status \n",
    "sns.countplot(y=\"full or part time employment stat\", data=data)\n",
    "plt.show()\n",
    "\n",
    "## count plot for major occupation code\n",
    "sns.countplot(y=\"major occupation code\", data=data)\n",
    "plt.show()"
   ]
  },
  {
   "cell_type": "markdown",
   "metadata": {},
   "source": [
    "**Observation**\n",
    "1. There are more white people in data\n",
    "2. The count of children and armed force is more.\n",
    "3. Similarly, occupation code as not in universe is also more"
   ]
  },
  {
   "cell_type": "markdown",
   "metadata": {},
   "source": [
    "## <font color = red>Class Imbalance Issue </font>\n",
    "\n",
    "Up-sampling is the process of randomly **duplicating observations** from the **minority class**.\n",
    "First, we'll import the resampling module from Scikit-Learn .Next, we'll create a new DataFrame with an up-sampled minority class.\n",
    "\n",
    "So the steps are as follows :\n",
    "> Separate observations from each class into different DataFrames.\n",
    "\n",
    "> Resample the minority class with replacement, setting the number of samples to match that of the majority class.\n",
    "\n",
    ">Up-sampled minority class DataFrame with the original majority class DataFrame."
   ]
  },
  {
   "cell_type": "code",
   "execution_count": 14,
   "metadata": {},
   "outputs": [],
   "source": [
    "from sklearn.utils import resample   # import library for sampling"
   ]
  },
  {
   "cell_type": "code",
   "execution_count": 15,
   "metadata": {},
   "outputs": [
    {
     "name": "stdout",
     "output_type": "stream",
     "text": [
      "minority class shape: (12325, 42)\n",
      "majority class shape: (183099, 42)\n",
      "After sampling class level count are:\n",
      ">50    183099\n",
      "<50    183099\n",
      "Name: label, dtype: int64\n"
     ]
    }
   ],
   "source": [
    "data_grt =  data[data.label == '>50']\n",
    "data_les =  data[data.label == '<50']\n",
    "\n",
    "print('minority class shape:',data_grt.shape)\n",
    "print('majority class shape:',data_les.shape) \n",
    "\n",
    "# Upsample >50,000 income group\n",
    "grt_upsampled = resample(data_grt, \n",
    "                                 replace=True,     # sample with replacement\n",
    "                                 n_samples=len(data_les),    # to match majority class\n",
    "                                 random_state=897) # reproducible results\n",
    " \n",
    "# Combine majority class with upsampled minority class\n",
    "data_upsampled = pd.concat([data_les, grt_upsampled])\n",
    " \n",
    "# Display new class counts\n",
    "print('After sampling class level count are:')\n",
    "print(data_upsampled.label.value_counts())\n"
   ]
  },
  {
   "cell_type": "markdown",
   "metadata": {},
   "source": [
    "## Implementation:  Feature Engineering\n",
    "--------------------------"
   ]
  },
  {
   "cell_type": "code",
   "execution_count": 16,
   "metadata": {},
   "outputs": [],
   "source": [
    "from sklearn.feature_selection import SelectKBest"
   ]
  },
  {
   "cell_type": "code",
   "execution_count": null,
   "metadata": {
    "scrolled": true
   },
   "outputs": [
    {
     "data": {
      "text/plain": [
       "Text(0,0.5,'Income')"
      ]
     },
     "execution_count": 17,
     "metadata": {},
     "output_type": "execute_result"
    },
    {
     "data": {
      "image/png": "[encoded data removed]",
      "text/plain": [
       "<matplotlib.figure.Figure at 0x28ece9f0b38>"
      ]
     },
     "metadata": {},
     "output_type": "display_data"
    }
   ],
   "source": [
    "# worker's class vs Income graph \n",
    "pd.crosstab(data['class of worker'],data.label).plot(kind='bar', fontsize = 15, figsize=(7,4))\n",
    "plt.title('class of worker Vs Income Graph')\n",
    "plt.xlabel('Class')\n",
    "plt.ylabel('Income')"
   ]
  },
  {
   "cell_type": "markdown",
   "metadata": {},
   "source": [
    "To Extract best feature, lets plot the histogam for each columns.\n",
    "<font color= red>Below block takes time</font>"
   ]
  },
  {
   "cell_type": "code",
   "execution_count": null,
   "metadata": {},
   "outputs": [
    {
     "name": "stderr",
     "output_type": "stream",
     "text": [
      "C:\\Users\\Pruthwiraj\\Anaconda3\\lib\\site-packages\\matplotlib\\pyplot.py:528: RuntimeWarning: More than 20 figures have been opened. Figures created through the pyplot interface (`matplotlib.pyplot.figure`) are retained until explicitly closed and may consume too much memory. (To control this warning, see the rcParam `figure.max_open_warning`).\n",
      "  max_open_warning, RuntimeWarning)\n"
     ]
    }
   ],
   "source": [
    "for p in data.columns:\n",
    "    pd.crosstab(data[p],data.label).plot(kind='bar', fontsize = 15, figsize=(7,4))\n",
    "    plt.title(p + ' Vs Income Graph')\n",
    "    plt.xlabel(p)\n",
    "    plt.ylabel('Income')"
   ]
  },
  {
   "cell_type": "code",
   "execution_count": null,
   "metadata": {},
   "outputs": [],
   "source": [
    "import matplotlib.pyplot as plt\n",
    "data[data.dtypes[(data.dtypes==\"float64\")|(data.dtypes==\"int64\")]\n",
    "                        .index.values].hist(figsize=[11,11])"
   ]
  },
  {
   "cell_type": "code",
   "execution_count": null,
   "metadata": {},
   "outputs": [],
   "source": [
    "## for classification : https://www.analyticsvidhya.com/blog/2016/07/practical-guide-data-preprocessing-python-scikit-learn/"
   ]
  },
  {
   "cell_type": "markdown",
   "metadata": {},
   "source": [
    "From the bar graph we can see that 'class of worker', \n",
    " 'education', 'wage per hour',  'marital stat', 'enroll in edu inst last wk' , 'major occupation code', 'race','sex', 'member of a labor union', 'full or part time employment stat',\n",
    " 'region of previous res'  can be a good predictor for deciding income."
   ]
  },
  {
   "cell_type": "markdown",
   "metadata": {},
   "source": [
    "#### If the distribution of certain variables are skewed, we can implement standardization.\n",
    "\n",
    "https://amysfernweh.wordpress.com/2017/09/08/pythonprincipal-component-analysis-and-k-means-clustering-with-imdb-movie-datasets/"
   ]
  },
  {
   "cell_type": "code",
   "execution_count": null,
   "metadata": {},
   "outputs": [],
   "source": [
    "data1 = data_upsampled[['age', \n",
    " 'class of worker', \n",
    " 'education',\n",
    " 'wage per hour', \n",
    " 'marital stat', 'enroll in edu inst last wk' ,\n",
    " 'major occupation code', 'race','sex',\n",
    " 'member of a labor union',\n",
    " 'full or part time employment stat',\n",
    " 'region of previous residence',\n",
    " 'detailed household summary in household',\n",
    " 'num persons worked for employer','capital gains',\n",
    " 'capital losses',\n",
    " 'family members under 18',\n",
    " 'instance weight',    \n",
    " 'label']]\n",
    "data1.head()"
   ]
  },
  {
   "cell_type": "markdown",
   "metadata": {},
   "source": [
    "Check the unique values of each column"
   ]
  },
  {
   "cell_type": "code",
   "execution_count": null,
   "metadata": {},
   "outputs": [],
   "source": [
    "def unique_counts(dat):\n",
    "   for i in dat.columns:\n",
    "       count = dat[i].nunique()\n",
    "       print(i, \": \", count)\n",
    "unique_counts(data1)"
   ]
  },
  {
   "cell_type": "markdown",
   "metadata": {},
   "source": [
    "## Feature Correlation\n",
    "\n",
    "We can examine the correlation among the features using Pearson correlation plot."
   ]
  },
  {
   "cell_type": "code",
   "execution_count": null,
   "metadata": {},
   "outputs": [],
   "source": [
    "# heatmap for correlation check\n",
    "sns.heatmap(data1.corr(), annot=True)"
   ]
  },
  {
   "cell_type": "markdown",
   "metadata": {},
   "source": [
    "### <font color = orange>Observation</font>\n",
    "\n",
    "Variable are not much correlated, so we can apply the model"
   ]
  },
  {
   "cell_type": "markdown",
   "metadata": {},
   "source": [
    "### Dummy Variable Creation \n",
    "------------------------\n",
    "Before feeding data to logistic regression model, encoding of all the independent variables as dummy variables, allows easy interpretation and calculation and increases the stability and significance of the coefficients."
   ]
  },
  {
   "cell_type": "code",
   "execution_count": null,
   "metadata": {},
   "outputs": [],
   "source": [
    "data1 = pd.concat([data1, pd.get_dummies(data1['class of worker'], prefix='workerclass',prefix_sep=':')], axis=1)\n",
    "data1 = pd.concat([data1, pd.get_dummies(data1['education'], prefix='education',prefix_sep=':')], axis=1)\n",
    "data1 = pd.concat([data1, pd.get_dummies(data1['marital stat'], prefix='marital',prefix_sep=':')], axis=1)\n",
    "data1 = pd.concat([data1, pd.get_dummies(data1['enroll in edu inst last wk'], prefix='enroll_edu',prefix_sep=':')], axis=1)\n",
    "data1 = pd.concat([data1, pd.get_dummies(data1['major occupation code'], prefix='occupation',prefix_sep=':')], axis=1)\n",
    "data1 = pd.concat([data1, pd.get_dummies(data1['race'], prefix='race',prefix_sep=':')], axis=1)\n",
    "data1 = pd.concat([data1, pd.get_dummies(data1['sex'], prefix='sex',prefix_sep=':')], axis=1)\n",
    "data1 = pd.concat([data1, pd.get_dummies(data1['member of a labor union'], prefix='labor union',prefix_sep=':')], axis=1)\n",
    "data1 = pd.concat([data1, pd.get_dummies(data1['full or part time employment stat'], prefix='full/part employment',prefix_sep=':')], axis=1)\n",
    "data1 = pd.concat([data1, pd.get_dummies(data1['region of previous residence'], prefix='region',prefix_sep=':')], axis=1)\n",
    "data1 = pd.concat([data1, pd.get_dummies(data1['detailed household summary in household'], prefix='household summary',prefix_sep=':')], axis=1)\n",
    "data1 = pd.concat([data1, pd.get_dummies(data1['num persons worked for employer'], prefix='num persons worked for employer',prefix_sep=':')], axis=1)\n",
    "data1 = pd.concat([data1, pd.get_dummies(data1['family members under 18'], prefix='family members under 18',prefix_sep=':')], axis=1)"
   ]
  },
  {
   "cell_type": "code",
   "execution_count": null,
   "metadata": {},
   "outputs": [],
   "source": [
    "data1.drop('class of worker',axis=1,inplace=True)\n",
    "data1.drop('education',axis=1,inplace=True)\n",
    "data1.drop('marital stat',axis=1,inplace=True)\n",
    "data1.drop('enroll in edu inst last wk',axis=1,inplace=True)\n",
    "data1.drop('major occupation code',axis=1,inplace=True)\n",
    "data1.drop('race',axis=1,inplace=True)\n",
    "data1.drop('sex',axis=1,inplace=True)\n",
    "data1.drop('member of a labor union',axis=1,inplace=True)\n",
    "data1.drop('full or part time employment stat',axis=1,inplace=True)\n",
    "data1.drop('region of previous residence',axis=1,inplace=True)\n",
    "data1.drop('detailed household summary in household',axis=1,inplace=True)\n",
    "data1.drop('num persons worked for employer',axis=1,inplace=True)\n",
    "data1.drop('family members under 18',axis=1,inplace=True)"
   ]
  },
  {
   "cell_type": "code",
   "execution_count": null,
   "metadata": {},
   "outputs": [],
   "source": [
    "sns.heatmap(data1.corr())  ## heat map after creating the dummy variable\n",
    "plt.show()"
   ]
  },
  {
   "cell_type": "markdown",
   "metadata": {},
   "source": [
    "### Logistic Regression Model\n",
    "-----------------------------------------------------\n",
    "\n",
    "Logistic regression can be used to model and solve this kind of binary classification problems. Here we get a probability score that reflects the probability of the occurrence of the event.\n",
    "\n",
    "Before implementing logistic regression we need to make sure that data is satisfying all the underlying assumptions. \n",
    "\n",
    "Logistic Regression Assumptions:\n",
    "\n",
    "> Binary logistic regression requires the dependent variable to be binary.\n",
    "\n",
    "> For a binary regression, the factor level 1 of the dependent variable should represent the desired outcome.\n",
    "\n",
    "> Only the meaningful variables should be included.\n",
    "\n",
    "> The independent variables should be independent of each other. That is, the model should have little or no multicollinearity.\n",
    "\n",
    "> Logistic regression requires quite large sample sizes. Our data set is large enough. \n",
    "\n",
    "From the correlation graph and individual data analysis plot we found that all the assumptions are satisfied.\n",
    " \n"
   ]
  },
  {
   "cell_type": "code",
   "execution_count": null,
   "metadata": {},
   "outputs": [],
   "source": [
    "data1['label'] = data1['label'].replace(['<50','>50'],[0,1]) # relabeling the label column as 0,1"
   ]
  },
  {
   "cell_type": "markdown",
   "metadata": {},
   "source": [
    "### Data Shuffling and Splitting\n",
    "Now all our categorical variables have been converted into numerical features, and all numerical features have been normalized. We now split the data into training and test sets. **75% of the data will be used for training and 25% for testing**"
   ]
  },
  {
   "cell_type": "code",
   "execution_count": null,
   "metadata": {},
   "outputs": [],
   "source": [
    "# Import train_test_split from sklearn package\n",
    "from sklearn.model_selection import train_test_split\n",
    "\n",
    "# Spliting data frame\n",
    "X = data1[data1.columns.difference(['label'])]  \n",
    "Y = data1.label\n",
    "\n",
    "x_train, x_test, y_train, y_test = train_test_split(X, Y, test_size=0.25, random_state=0)\n",
    "\n",
    "# Show the results of the split\n",
    "print (\"Train set has {} samples.\".format(x_train.shape[0]))\n",
    "print (\"Test set has {} samples.\".format(x_test.shape[0]))"
   ]
  },
  {
   "cell_type": "markdown",
   "metadata": {},
   "source": [
    "x_train and x_test variables contain explanatory column attributes. The y_train and y_test variable contain values from the 'label' column.\n"
   ]
  },
  {
   "cell_type": "code",
   "execution_count": null,
   "metadata": {},
   "outputs": [],
   "source": [
    "x_train.shape, x_test.shape, y_train.shape, y_test.shape  # shape of newly created data frame"
   ]
  },
  {
   "cell_type": "markdown",
   "metadata": {},
   "source": [
    "As we need to consider **instance weight** during the learning phase, lets first separate out that column and removing the column from both training and test data set."
   ]
  },
  {
   "cell_type": "code",
   "execution_count": null,
   "metadata": {},
   "outputs": [],
   "source": [
    "instance_Weight = x_train['instance weight']  # saving instance weight so that we can use it later\n",
    "\n",
    "## removing instance weight from training and test set\n",
    "x_train = x_train[x_train.columns.difference(['instance weight'])] \n",
    "x_test = x_test[x_test.columns.difference(['instance weight'])]  \n",
    "\n",
    "# Show the results after emoving the instance weight column\n",
    "\n",
    "print (\"Train set shape\",x_train.shape)\n",
    "print (\"Test set shape\",x_test.shape)"
   ]
  },
  {
   "cell_type": "markdown",
   "metadata": {},
   "source": [
    "Fitting Logistic Regression to the Training set"
   ]
  },
  {
   "cell_type": "code",
   "execution_count": null,
   "metadata": {},
   "outputs": [],
   "source": [
    "## import LogisticRegression\n",
    "from sklearn.linear_model import LogisticRegression\n",
    "\n",
    "model = LogisticRegression()\n",
    "\n",
    "## fit on training set \n",
    "model.fit(x_train, y_train, sample_weight = instance_Weight)"
   ]
  },
  {
   "cell_type": "markdown",
   "metadata": {},
   "source": [
    "Now Predicting on using the Test data set"
   ]
  },
  {
   "cell_type": "code",
   "execution_count": null,
   "metadata": {},
   "outputs": [],
   "source": [
    "prediction = model.predict(x_test)"
   ]
  },
  {
   "cell_type": "markdown",
   "metadata": {},
   "source": [
    "## Model Evaluation:\n",
    "--------------------------------------------\n",
    "\n",
    "### Classification Accuracy:\n",
    "\n",
    "The correct predictions to the total number of input samples"
   ]
  },
  {
   "cell_type": "code",
   "execution_count": null,
   "metadata": {},
   "outputs": [],
   "source": [
    "from sklearn.metrics import accuracy_score, confusion_matrix, classification_report\n",
    "from sklearn import metrics\n",
    "print( 'Accuracy Score: {0}'.format(accuracy_score(y_test, prediction)*100))"
   ]
  },
  {
   "cell_type": "markdown",
   "metadata": {},
   "source": [
    "### Confusion Matrix\n",
    "\n",
    "Confusion matrix allows to look at the particular misclassified examples. The confusion_matrix() function will calculate a confusion matrix and return the result as an array."
   ]
  },
  {
   "cell_type": "code",
   "execution_count": null,
   "metadata": {},
   "outputs": [],
   "source": [
    "print(confusion_matrix(y_test, prediction))\n",
    "\n",
    "print('Number of correct predictions :',38227+40471)\n",
    "print('Number of Incorrect predictions :',5073+7779)"
   ]
  },
  {
   "cell_type": "markdown",
   "metadata": {},
   "source": [
    "### Classification Report\n",
    "\n",
    "Classification report includes Precision, Recall and F1-Score.\n",
    "\n",
    "**precision** = tp / (tp + fp)\n",
    "\n",
    "**recall** = tp / (tp + fn) \n",
    "\n",
    "**F-beta** score can be interpreted as a weighted mean of the precision and recall."
   ]
  },
  {
   "cell_type": "code",
   "execution_count": null,
   "metadata": {},
   "outputs": [],
   "source": [
    "print(classification_report(y_test, prediction))"
   ]
  },
  {
   "cell_type": "markdown",
   "metadata": {},
   "source": [
    "It appears from the classification report that the model had more precision in predicting individuals making less than 50K a year vs those making more and the recall (the proportion of actual positives was identified correctly) is vice vesa."
   ]
  },
  {
   "cell_type": "markdown",
   "metadata": {},
   "source": [
    "### ROC Curves and AUC \n",
    "\n",
    "As there are roughly equal numbers of observations for each class, we are using ROC curve."
   ]
  },
  {
   "cell_type": "code",
   "execution_count": null,
   "metadata": {},
   "outputs": [],
   "source": [
    "# import the required libraries\n",
    "from sklearn.metrics import roc_curve\n",
    "from sklearn.metrics import roc_auc_score\n",
    "from matplotlib import pyplot\n",
    "\n",
    "# extracting false positive, true positive rate.\n",
    "fpr, tpr, thresholds = roc_curve(y_test, prediction)\n",
    "\n",
    "## arer under the curve (AUC)\n",
    "auc = roc_auc_score(y_test, prediction)\n",
    "print('AUC:', auc)\n",
    "\n",
    "## Plotting ROC Curve\n",
    "pyplot.plot([0, 1], [0, 1], linestyle='--')\n",
    "pyplot.plot(fpr, tpr, marker='.')\n",
    "pyplot.xlabel('False positive rate')\n",
    "pyplot.ylabel('True positive rate')\n"
   ]
  },
  {
   "cell_type": "markdown",
   "metadata": {},
   "source": [
    "## Customer Segmentation "
   ]
  },
  {
   "cell_type": "markdown",
   "metadata": {},
   "source": [
    "**Customer segmentation** is the process of dividing customers into groups based on common characteristics so that companies can **market to each group effectively and appropriately** .\n",
    "\n",
    "### Objective:\n",
    "\n",
    "The goal is to divide customers into groups that share certain characteristics.\n",
    " So we need to think carefully about the variables we will choose for clustering. Good exploratory research that gives us a good sense of what variables may distinguish people or products or assets or regions is critical. \n",
    "\n",
    "### Business Motive: \n",
    "\n",
    "Walmart wants to cluster the customer that share certain characteristics.The decision about which variables to use for clustering is a critically important decision that will have a big impact on the clustering solution. I have decided to take some time to dig more into data and see the features. From my experience, I found that the data set mostly contains **demographic data** such as  (e.g., age, gender, marital status, income).\n",
    "\n",
    "I choose some continuous variable those make sense for clustering and planning to target the best customer for the market. From some research, I found that most customers of Walmart are middle & upper-income group who want best deals & discounts in order to purchase the necessities.\n",
    "\n",
    "**My approach is to group people based on their age, wage per hour, week worked per year and capital profit i:e (net profit = capital gain-capital loss). The main goal is to identify high- and low-value customers for marketing purposes.**\n",
    "\n",
    "Lastly, I’m using the k-means clustering technique because it can efficiently handle large datasets and iterates quickly to good solutions.\n",
    "\n",
    "To keep things tidy, I restrict the date range to one full year."
   ]
  },
  {
   "cell_type": "code",
   "execution_count": null,
   "metadata": {},
   "outputs": [],
   "source": [
    "data = data[data['year'] == 95]  # take the data for year 95 only\n",
    "data['gain'] = data['capital gains']-data['capital losses'] # calculate net gain from capital gain and capital loss"
   ]
  },
  {
   "cell_type": "code",
   "execution_count": null,
   "metadata": {},
   "outputs": [],
   "source": [
    "X =  data[['age','wage per hour','weeks worked in year','gain']]  # new dataframe to group the customers"
   ]
  },
  {
   "cell_type": "code",
   "execution_count": null,
   "metadata": {},
   "outputs": [],
   "source": [
    "pyplot.hist(X['gain'])   ## skwed"
   ]
  },
  {
   "cell_type": "markdown",
   "metadata": {},
   "source": [
    "k-means clustering requires continuous variables and works best with relatively normally-distributed, standardized input variables. Standardizing the input variables is quite important; otherwise, input variables with larger variances will have commensurately greater influence on the results. Below, I transform our three input variables to reduce positive skew and then standardize them as z-scores."
   ]
  },
  {
   "cell_type": "markdown",
   "metadata": {},
   "source": [
    "## Preprocessing of Data\n"
   ]
  },
  {
   "cell_type": "markdown",
   "metadata": {},
   "source": [
    "**Standadize the continouous dataset.**"
   ]
  },
  {
   "cell_type": "code",
   "execution_count": null,
   "metadata": {},
   "outputs": [],
   "source": [
    "#Standardize\n",
    "from scipy import stats\n",
    "X_dat = stats.zscore(X)"
   ]
  },
  {
   "cell_type": "code",
   "execution_count": null,
   "metadata": {},
   "outputs": [],
   "source": [
    "# Spliting data into 75-25 i:e 75% training data and 25% test data.\n",
    "x_train_dat, x_test_dat = train_test_split(X, test_size=0.25, random_state=0)\n",
    "\n",
    "# Standadize both training and test set\n",
    "x_train = stats.zscore(x_train_dat)\n",
    "x_test = x_test_dat.values\n",
    "\n",
    "# geting the columns name\n",
    "x_cols = x_train_dat.columns[1:]\n",
    "x_cols"
   ]
  },
  {
   "cell_type": "markdown",
   "metadata": {},
   "source": [
    "### Finding optimal number of cluster using elbow method\n",
    "-----------------------------------------------------------------------\n",
    "Before moving further.we need to first decide the number of cluster needs to be formed.\n",
    "There is a way called the **elbow method** to find best value for K(Number of cluster) . In this method, we choose a different number of clusters and start plotting the within-cluster distance to the centroid."
   ]
  },
  {
   "cell_type": "code",
   "execution_count": null,
   "metadata": {
    "scrolled": true
   },
   "outputs": [],
   "source": [
    "#Using the elbow method to find the optimum number of clusters\n",
    "from sklearn.cluster import KMeans\n",
    "wcss = []   ## WCSS (within-cluster sums of squares) will necessarily maximize the \n",
    "#                 distance between clusters.\n",
    "for i in range(1,11):\n",
    "    km=KMeans(n_clusters=i,init='k-means++', max_iter=300, n_init=10, random_state=0)\n",
    "    km.fit(x_train)\n",
    "    wcss.append(km.inertia_)\n",
    "plt.plot(range(1,11),wcss)\n",
    "plt.title('Elbow Method')\n",
    "plt.xlabel('Number of clusters')\n",
    "plt.ylabel('wcss')\n",
    "plt.show()"
   ]
  },
  {
   "cell_type": "markdown",
   "metadata": {},
   "source": [
    "Based on the elbow plot, we could choose between 4 and 6 clusters. I have choose the cluster to be 5."
   ]
  },
  {
   "cell_type": "markdown",
   "metadata": {},
   "source": [
    "### Visualization\n",
    "---------------------------\n",
    "\n",
    "We are going to use Principal Component Analysis to transform our multi-dimensional dataset into a 2 dimensional dataset"
   ]
  },
  {
   "cell_type": "code",
   "execution_count": null,
   "metadata": {},
   "outputs": [],
   "source": [
    "from sklearn.decomposition import PCA  # import library\n",
    "pca = PCA(n_components=2)  # set the number of components\n",
    "x_train_2d = pca.fit_transform(x_train) # fit the training data"
   ]
  },
  {
   "cell_type": "markdown",
   "metadata": {},
   "source": [
    "Using KMeans(), create a KMeans instance.To specify the number of clusters, use the n_clusters keyword argument"
   ]
  },
  {
   "cell_type": "code",
   "execution_count": null,
   "metadata": {},
   "outputs": [],
   "source": [
    "## Lets take the numbe of cluster as 5\n",
    "n_clusters = 5\n",
    "kmeans = KMeans(n_clusters = n_clusters, random_state = 42)  #kmean\n",
    "x_train_dat['Cluster'] = kmeans.fit_predict(x_train_2d)   # fit the transformed 2d training data\n",
    "cluster_cust = x_train_dat['Cluster']\n",
    "\n",
    "print(\"Number of clusters created are: \",x_train_dat['Cluster'].unique())"
   ]
  },
  {
   "cell_type": "markdown",
   "metadata": {},
   "source": [
    " Retail customers are majorly working class people in all age groups, people who are looking for value for money and daily products at a low price all the time.\n",
    " \n",
    " ### Ploting the 3D visualization\n",
    " --------------------------------"
   ]
  },
  {
   "cell_type": "code",
   "execution_count": null,
   "metadata": {},
   "outputs": [],
   "source": [
    "from mpl_toolkits.mplot3d import Axes3D  # import Axes3D library\n",
    "fig = plt.figure(figsize=(6, 4))   # set figure size\n",
    "ax = Axes3D(fig)\n",
    "\n",
    "ax.scatter(x_train[cluster_cust == 0, 0], x_train[cluster_cust == 0, 1], x_train[cluster_cust == 0, 2],x_train[cluster_cust == 0, 3],s = 10, c = 'red', label = 'Target Customer:middle class')\n",
    "ax.scatter(x_train[cluster_cust == 1, 0], x_train[cluster_cust == 1, 1], x_train[cluster_cust == 1, 2],x_train[cluster_cust == 1, 3],s = 10, c = 'green', label = 'Teenager group')\n",
    "ax.scatter(x_train[cluster_cust == 2, 0], x_train[cluster_cust == 2, 1], x_train[cluster_cust == 2, 2],x_train[cluster_cust == 2, 3],s = 10, c = 'blue', label = 'Target Customer:rich class')\n",
    "ax.scatter(x_train[cluster_cust == 3, 0], x_train[cluster_cust == 3, 1], x_train[cluster_cust == 3, 2],x_train[cluster_cust == 3, 3],s = 10, c = 'yellow', label = 'Target Customer:high gain')\n",
    "ax.scatter(x_train[cluster_cust == 4, 0], x_train[cluster_cust == 4, 1], x_train[cluster_cust == 4, 2],x_train[cluster_cust == 4, 3],s = 10, c = 'black', label = 'Old People')\n",
    "\n",
    "centers = kmeans.cluster_centers_\n",
    "ax.scatter(centers[:, 0], centers[:, 1], marker='*', c = 'yellow', s=100, alpha=0.5)\n",
    "plt.legend()\n",
    "plt.show()"
   ]
  },
  {
   "cell_type": "markdown",
   "metadata": {},
   "source": [
    "Cluster after applying PCA."
   ]
  },
  {
   "cell_type": "code",
   "execution_count": null,
   "metadata": {},
   "outputs": [],
   "source": [
    "#Define our own color map\n",
    "LABEL_COLOR_MAP = {0:'red', 1: 'green', 2: 'blue',3:'orange',4:'black'}\n",
    "label_color = [LABEL_COLOR_MAP[l] for l in cluster_cust]\n",
    "\n",
    "# Plot the scatter diagram\n",
    "plt.figure(figsize = (7,7))   # set the dimension for the figure\n",
    "plt.scatter(x_train_2d[:,0],x_train_2d[:,1], c= label_color, alpha=0.5)   # give data\n",
    "plt.xlabel('PCA1')\n",
    "plt.ylabel('PCA2')\n",
    "plt.show()"
   ]
  },
  {
   "cell_type": "markdown",
   "metadata": {},
   "source": [
    "## Cluster statistic [How one cluster is different from the other]\n",
    "---------------------------\n",
    "\n",
    "Now we will be digging a little deeper into the clusters. Here we will break out all clusters and compare it to the remaining cluster, we can start to look for interesting facets that we might be able to exploit.\n",
    "\n",
    "As a baseline, we can check the age range for cluster 5 vs. everyone else."
   ]
  },
  {
   "cell_type": "code",
   "execution_count": null,
   "metadata": {},
   "outputs": [],
   "source": [
    "pd.DataFrame(x_train_dat.groupby(['Cluster']).mean())"
   ]
  },
  {
   "cell_type": "code",
   "execution_count": null,
   "metadata": {},
   "outputs": [],
   "source": [
    "pd.DataFrame(cluster_cust.value_counts())"
   ]
  },
  {
   "cell_type": "markdown",
   "metadata": {},
   "source": [
    "The plot shows the distribution of the 5 clusters. We could interpret them as the following customer segments:\n",
    "\n",
    "### Cluster Inerpetation \n",
    "-------------------------------------\n",
    "\n",
    "**Cluster 1 (Middle-class Target Profile):** Medium wage per hour (23) but mostly they are employed for the whole year (I:e week worked in a year) is 50 and net gain is also moderate. The average age of this group of people is around 40. This group can be called as Medium Profile group and these can be the target group for retail marketing.people here are 28718\n",
    "\n",
    "So in regards to the market, these people should be targeted to market for an exclusive product and not the normal product. \n",
    "\n",
    "\n",
    "**Cluster 2 (Teenager Profile):** Low wage per hour and very less week worked in a year with average age 12. The gain is -ve. All these things imply that most people in this group might be students and careless as we can see the gain is -ve. This group might not be a targeted group for retail marketing \n",
    "\n",
    "**Cluster 3(high-class target profile):** These group of people has a high wage, high work per year, moderate capital gain. This group can be the target group as the wage per hour is moderate, age group lies around 40 and these people have worked throughout the year. This group can also be one of the targeted group. These people might be wealthy, So in regards to the market, these people should be targeted to market for an exclusive product and not the normal product. The customer here is 2898\n",
    "\n",
    "**Cluster 4(Target profile):** These group of people has less wage, high work per year, High capital gain. This group can be the target group as the wage per hour is less but the gain is also high. Age group lies around 46 and these people have worked throughout the year. As they have high gain Wallmart might find promotion/offer related to that. Very fewer people are in this group, around 158\n",
    "\n",
    "**Cluster 5(Old profile):** People this group has an average age of 60,  less wage and less week worked per year, low capital gain. This group might not be the target group due to their age. The survey says that less customer old age.\n"
   ]
  },
  {
   "cell_type": "markdown",
   "metadata": {},
   "source": [
    "### Testing\n",
    "------------------------------------\n",
    "Now that we have fit our K means algorithm we can run it our testing data."
   ]
  },
  {
   "cell_type": "code",
   "execution_count": null,
   "metadata": {},
   "outputs": [],
   "source": [
    "x_test_2d = pca.fit_transform(x_test) \n",
    "cluster_cust = kmeans.fit_predict(x_test_2d)\n",
    "fig = plt.figure(figsize=(10, 8))\n",
    "ax1 = Axes3D(fig)\n",
    "\n",
    "ax1.scatter(x_test[cluster_cust == 0, 0], x_test[cluster_cust == 0, 1], x_test[cluster_cust == 0, 2],x_test[cluster_cust == 0, 3],s = 10, c = 'red', label = 'Target Customer:middle class')\n",
    "ax1.scatter(x_test[cluster_cust == 1, 0], x_test[cluster_cust == 1, 1], x_test[cluster_cust == 1, 2],x_test[cluster_cust == 1, 3],s = 10, c = 'green', label = 'Teenager group')\n",
    "ax1.scatter(x_test[cluster_cust == 2, 0], x_test[cluster_cust == 2, 1], x_test[cluster_cust == 2, 2],x_test[cluster_cust == 2, 3],s = 10, c = 'blue', label = 'Target Customer:rich class')\n",
    "ax1.scatter(x_test[cluster_cust == 3, 0], x_test[cluster_cust == 3, 1], x_test[cluster_cust == 3, 2],x_test[cluster_cust == 3, 3],s = 10, c = 'yellow', label = 'Target Customer:high gain')\n",
    "ax1.scatter(x_test[cluster_cust == 4, 0], x_test[cluster_cust == 4, 1], x_test[cluster_cust == 4, 2],x_test[cluster_cust == 4, 3],s = 10, c = 'black', label = 'Old People')\n",
    "\n",
    "plt.legend()\n",
    "plt.show()"
   ]
  },
  {
   "cell_type": "markdown",
   "metadata": {},
   "source": [
    "The predict() method of model to predict the cluster labels of new_points, assigning the result to new_labels. Notice that KMeans can assign previously unseen points to the clusters it has already found!"
   ]
  }
 ],
 "metadata": {
  "kernelspec": {
   "display_name": "Python 3",
   "language": "python",
   "name": "python3"
  },
  "language_info": {
   "codemirror_mode": {
    "name": "ipython",
    "version": 3
   },
   "file_extension": ".py",
   "mimetype": "text/x-python",
   "name": "python",
   "nbconvert_exporter": "python",
   "pygments_lexer": "ipython3",
   "version": "3.6.4"
  }
 },
 "nbformat": 4,
 "nbformat_minor": 2
}
